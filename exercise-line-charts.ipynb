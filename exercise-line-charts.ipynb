{
 "cells": [
  {
   "cell_type": "markdown",
   "id": "33769701",
   "metadata": {
    "papermill": {
     "duration": 0.005202,
     "end_time": "2022-07-11T11:12:15.139562",
     "exception": false,
     "start_time": "2022-07-11T11:12:15.134360",
     "status": "completed"
    },
    "tags": []
   },
   "source": [
    "**This notebook is an exercise in the [Data Visualization](https://www.kaggle.com/learn/data-visualization) course.  You can reference the tutorial at [this link](https://www.kaggle.com/alexisbcook/line-charts).**\n",
    "\n",
    "---\n"
   ]
  },
  {
   "cell_type": "markdown",
   "id": "ffd9a441",
   "metadata": {
    "papermill": {
     "duration": 0.004149,
     "end_time": "2022-07-11T11:12:15.148215",
     "exception": false,
     "start_time": "2022-07-11T11:12:15.144066",
     "status": "completed"
    },
    "tags": []
   },
   "source": [
    "In this exercise, you will use your new knowledge to propose a solution to a real-world scenario. To succeed, you will need to import data into Python, answer questions using the data, and generate **line charts** to understand patterns in the data.\n",
    "\n",
    "## Scenario\n",
    "\n",
    "You have recently been hired to manage the museums in the City of Los Angeles. Your first project focuses on the four museums pictured in the images below.\n",
    "\n",
    "![ex1_museums](https://i.imgur.com/pFYL8J1.png)\n",
    "\n",
    "You will leverage data from the Los Angeles [Data Portal](https://data.lacity.org/) that tracks monthly visitors to each museum.  \n",
    "\n",
    "![ex1_xlsx](https://i.imgur.com/mGWYlym.png)\n",
    "\n",
    "## Setup\n",
    "\n",
    "Run the next cell to import and configure the Python libraries that you need to complete the exercise."
   ]
  },
  {
   "cell_type": "code",
   "execution_count": 1,
   "id": "c16da206",
   "metadata": {
    "execution": {
     "iopub.execute_input": "2022-07-11T11:12:15.158780Z",
     "iopub.status.busy": "2022-07-11T11:12:15.158414Z",
     "iopub.status.idle": "2022-07-11T11:12:16.512399Z",
     "shell.execute_reply": "2022-07-11T11:12:16.511370Z"
    },
    "papermill": {
     "duration": 1.36363,
     "end_time": "2022-07-11T11:12:16.516237",
     "exception": false,
     "start_time": "2022-07-11T11:12:15.152607",
     "status": "completed"
    },
    "tags": []
   },
   "outputs": [
    {
     "name": "stdout",
     "output_type": "stream",
     "text": [
      "Setup Complete\n"
     ]
    }
   ],
   "source": [
    "import pandas as pd\n",
    "pd.plotting.register_matplotlib_converters()\n",
    "import matplotlib.pyplot as plt\n",
    "%matplotlib inline\n",
    "import seaborn as sns\n",
    "print(\"Setup Complete\")"
   ]
  },
  {
   "cell_type": "markdown",
   "id": "23f5dd7d",
   "metadata": {
    "papermill": {
     "duration": 0.006662,
     "end_time": "2022-07-11T11:12:16.530029",
     "exception": false,
     "start_time": "2022-07-11T11:12:16.523367",
     "status": "completed"
    },
    "tags": []
   },
   "source": [
    "The questions below will give you feedback on your work. Run the following cell to set up the feedback system."
   ]
  },
  {
   "cell_type": "code",
   "execution_count": 2,
   "id": "2314a970",
   "metadata": {
    "execution": {
     "iopub.execute_input": "2022-07-11T11:12:16.545296Z",
     "iopub.status.busy": "2022-07-11T11:12:16.544990Z",
     "iopub.status.idle": "2022-07-11T11:12:16.616300Z",
     "shell.execute_reply": "2022-07-11T11:12:16.615667Z"
    },
    "papermill": {
     "duration": 0.081564,
     "end_time": "2022-07-11T11:12:16.618516",
     "exception": false,
     "start_time": "2022-07-11T11:12:16.536952",
     "status": "completed"
    },
    "tags": []
   },
   "outputs": [
    {
     "name": "stdout",
     "output_type": "stream",
     "text": [
      "Setup Complete\n"
     ]
    }
   ],
   "source": [
    "# Set up code checking\n",
    "import os\n",
    "if not os.path.exists(\"../input/museum_visitors.csv\"):\n",
    "    os.symlink(\"../input/data-for-datavis/museum_visitors.csv\", \"../input/museum_visitors.csv\") \n",
    "from learntools.core import binder\n",
    "binder.bind(globals())\n",
    "from learntools.data_viz_to_coder.ex2 import *\n",
    "print(\"Setup Complete\")"
   ]
  },
  {
   "cell_type": "markdown",
   "id": "91d8011b",
   "metadata": {
    "papermill": {
     "duration": 0.004242,
     "end_time": "2022-07-11T11:12:16.629928",
     "exception": false,
     "start_time": "2022-07-11T11:12:16.625686",
     "status": "completed"
    },
    "tags": []
   },
   "source": [
    "## Step 1: Load the data\n",
    "\n",
    "Your first assignment is to read the LA Museum Visitors data file into `museum_data`.  Note that:\n",
    "- The filepath to the dataset is stored as `museum_filepath`.  Please **do not** change the provided value of the filepath.\n",
    "- The name of the column to use as row labels is `\"Date\"`.  (This can be seen in cell A1 when the file is opened in Excel.)\n",
    "\n",
    "To help with this, you may find it useful to revisit some relevant code from the tutorial, which we have pasted below:\n",
    "\n",
    "```python\n",
    "# Path of the file to read\n",
    "spotify_filepath = \"../input/spotify.csv\"\n",
    "\n",
    "# Read the file into a variable spotify_data\n",
    "spotify_data = pd.read_csv(spotify_filepath, index_col=\"Date\", parse_dates=True)\n",
    "```\n",
    "\n",
    "The code you need to write now looks very similar!"
   ]
  },
  {
   "cell_type": "code",
   "execution_count": 3,
   "id": "535f8676",
   "metadata": {
    "execution": {
     "iopub.execute_input": "2022-07-11T11:12:16.640425Z",
     "iopub.status.busy": "2022-07-11T11:12:16.639980Z",
     "iopub.status.idle": "2022-07-11T11:12:16.660386Z",
     "shell.execute_reply": "2022-07-11T11:12:16.659772Z"
    },
    "papermill": {
     "duration": 0.027812,
     "end_time": "2022-07-11T11:12:16.662158",
     "exception": false,
     "start_time": "2022-07-11T11:12:16.634346",
     "status": "completed"
    },
    "tags": []
   },
   "outputs": [
    {
     "name": "stdout",
     "output_type": "stream",
     "text": [
      "            Avila Adobe  Firehouse Museum  Chinese American Museum  \\\n",
      "Date                                                                 \n",
      "2014-01-01        24778              4486                     1581   \n",
      "2014-02-01        18976              4172                     1785   \n",
      "2014-03-01        25231              7082                     3229   \n",
      "2014-04-01        26989              6756                     2129   \n",
      "2014-05-01        36883             10858                     3676   \n",
      "2014-06-01        29487              5751                     2121   \n",
      "2014-07-01        32378              5406                     2239   \n",
      "2014-08-01        37680              8619                     1769   \n",
      "2014-09-01        28473             61192                     1073   \n",
      "2014-10-01        27995              6488                     1979   \n",
      "2014-11-01        25691              4189                     2404   \n",
      "2014-12-01        18754              4339                     1319   \n",
      "2015-01-01        20438              3858                     1823   \n",
      "2015-02-01        15578              3742                     1558   \n",
      "2015-03-01        21297              5390                     2336   \n",
      "2015-04-01        26670              7000                     3057   \n",
      "2015-05-01        34383             12528                     4009   \n",
      "2015-06-01        30569              5377                     2544   \n",
      "2015-07-01        41242              6111                     3057   \n",
      "2015-08-01        30700              5383                     2415   \n",
      "2015-09-01        20967              5746                     1398   \n",
      "2015-10-01        29764              8882                     2237   \n",
      "2015-11-01        24483              6848                     2850   \n",
      "2015-12-01        21426              4502                     2075   \n",
      "2016-01-01        19659              4377                     2150   \n",
      "2016-02-01        17378              3675                     2547   \n",
      "2016-03-01        20322              6334                     7702   \n",
      "2016-04-01        24521              6509                     3485   \n",
      "2016-05-01        31728              9315                     4565   \n",
      "2016-06-01        23696              4918                     3034   \n",
      "2016-07-01        31689              5602                     2776   \n",
      "2016-08-01        25987              5181                     2153   \n",
      "2016-09-01        22897              4736                     1754   \n",
      "2016-10-01        25040              6145                     2607   \n",
      "2016-11-01        17760              3930                     2248   \n",
      "2016-12-01        20107              3911                     2263   \n",
      "2017-01-01        18792              3551                     2531   \n",
      "2017-02-01        14035              3491                     2139   \n",
      "2017-03-01        20680              5273                     5966   \n",
      "2017-04-01        25234              5320                     3273   \n",
      "2017-05-01        30029              8733                     5585   \n",
      "2017-06-01        22169              4862                     2946   \n",
      "2017-07-01        30831              5242                     2939   \n",
      "2017-08-01        27009              5379                     1784   \n",
      "2017-09-01        23403              4484                     1704   \n",
      "2017-10-01        22164              4822                     2419   \n",
      "2017-11-01        17629              4613                     2685   \n",
      "2017-12-01        18339              4448                     2768   \n",
      "2018-01-01        16265              3910                     2477   \n",
      "2018-02-01        14718              3306                     2710   \n",
      "2018-03-01        19001              5225                     4529   \n",
      "2018-04-01        18966              4535                     2750   \n",
      "2018-05-01        25173              8013                     4960   \n",
      "2018-06-01        22171              4635                     2518   \n",
      "2018-07-01        23136              4191                     2620   \n",
      "2018-08-01        20815              4866                     2409   \n",
      "2018-09-01        21020              4956                     2146   \n",
      "2018-10-01        19280              4622                     2364   \n",
      "2018-11-01        17163              4082                     2385   \n",
      "\n",
      "            America Tropical Interpretive Center  \n",
      "Date                                              \n",
      "2014-01-01                                  6602  \n",
      "2014-02-01                                  5029  \n",
      "2014-03-01                                  8129  \n",
      "2014-04-01                                  2824  \n",
      "2014-05-01                                 10694  \n",
      "2014-06-01                                 11036  \n",
      "2014-07-01                                 13490  \n",
      "2014-08-01                                  9139  \n",
      "2014-09-01                                  5661  \n",
      "2014-10-01                                  7356  \n",
      "2014-11-01                                  9773  \n",
      "2014-12-01                                  7184  \n",
      "2015-01-01                                  6250  \n",
      "2015-02-01                                  5907  \n",
      "2015-03-01                                  9884  \n",
      "2015-04-01                                  7254  \n",
      "2015-05-01                                 13207  \n",
      "2015-06-01                                 11102  \n",
      "2015-07-01                                 11072  \n",
      "2015-08-01                                 12096  \n",
      "2015-09-01                                  6608  \n",
      "2015-10-01                                 12524  \n",
      "2015-11-01                                  6677  \n",
      "2015-12-01                                  5967  \n",
      "2016-01-01                                  6587  \n",
      "2016-02-01                                  6955  \n",
      "2016-03-01                                  9979  \n",
      "2016-04-01                                  5113  \n",
      "2016-05-01                                  7757  \n",
      "2016-06-01                                  6751  \n",
      "2016-07-01                                 12188  \n",
      "2016-08-01                                  6245  \n",
      "2016-09-01                                  6977  \n",
      "2016-10-01                                  6282  \n",
      "2016-11-01                                  6365  \n",
      "2016-12-01                                  5223  \n",
      "2017-01-01                                  4929  \n",
      "2017-02-01                                  4493  \n",
      "2017-03-01                                  6271  \n",
      "2017-04-01                                  6685  \n",
      "2017-05-01                                  7556  \n",
      "2017-06-01                                  6818  \n",
      "2017-07-01                                  8675  \n",
      "2017-08-01                                  6212  \n",
      "2017-09-01                                  4607  \n",
      "2017-10-01                                  6097  \n",
      "2017-11-01                                  6757  \n",
      "2017-12-01                                  6780  \n",
      "2018-01-01                                  5837  \n",
      "2018-02-01                                  5705  \n",
      "2018-03-01                                  4909  \n",
      "2018-04-01                                  4650  \n",
      "2018-05-01                                  5626  \n",
      "2018-06-01                                  4694  \n",
      "2018-07-01                                  4718  \n",
      "2018-08-01                                  3891  \n",
      "2018-09-01                                  3180  \n",
      "2018-10-01                                  3775  \n",
      "2018-11-01                                  4562  \n"
     ]
    },
    {
     "data": {
      "application/javascript": [
       "parent.postMessage({\"jupyterEvent\": \"custom.exercise_interaction\", \"data\": {\"outcomeType\": 1, \"valueTowardsCompletion\": 0.3333333333333333, \"interactionType\": 1, \"questionType\": 1, \"questionId\": \"1_LoadMuseumData\", \"learnToolsVersion\": \"0.3.4\", \"failureMessage\": \"\", \"exceptionClass\": \"\", \"trace\": \"\"}}, \"*\")"
      ],
      "text/plain": [
       "<IPython.core.display.Javascript object>"
      ]
     },
     "metadata": {},
     "output_type": "display_data"
    },
    {
     "data": {
      "text/markdown": [
       "<span style=\"color:#33cc33\">Correct</span>"
      ],
      "text/plain": [
       "Correct"
      ]
     },
     "metadata": {},
     "output_type": "display_data"
    }
   ],
   "source": [
    "# Path of the file to read\n",
    "museum_filepath = \"../input/museum_visitors.csv\"\n",
    "\n",
    "# Fill in the line below to read the file into a variable museum_data\n",
    "museum_data = pd.read_csv(museum_filepath, index_col=\"Date\", parse_dates=True)\n",
    "print(museum_data)\n",
    "# Run the line below with no changes to check that you've loaded the data correctly\n",
    "step_1.check()"
   ]
  },
  {
   "cell_type": "code",
   "execution_count": 4,
   "id": "eb0e2e72",
   "metadata": {
    "execution": {
     "iopub.execute_input": "2022-07-11T11:12:16.673169Z",
     "iopub.status.busy": "2022-07-11T11:12:16.672739Z",
     "iopub.status.idle": "2022-07-11T11:12:16.675608Z",
     "shell.execute_reply": "2022-07-11T11:12:16.675007Z"
    },
    "papermill": {
     "duration": 0.010354,
     "end_time": "2022-07-11T11:12:16.677369",
     "exception": false,
     "start_time": "2022-07-11T11:12:16.667015",
     "status": "completed"
    },
    "tags": []
   },
   "outputs": [],
   "source": [
    "# Uncomment the line below to receive a hint\n",
    "#step_1.hint()\n",
    "# Uncomment the line below to see the solution\n",
    "#step_1.solution()"
   ]
  },
  {
   "cell_type": "markdown",
   "id": "32dfb5f2",
   "metadata": {
    "papermill": {
     "duration": 0.005491,
     "end_time": "2022-07-11T11:12:16.687775",
     "exception": false,
     "start_time": "2022-07-11T11:12:16.682284",
     "status": "completed"
    },
    "tags": []
   },
   "source": [
    "## Step 2: Review the data\n",
    "\n",
    "Use a Python command to print the last 5 rows of the data."
   ]
  },
  {
   "cell_type": "code",
   "execution_count": 5,
   "id": "d7f49aab",
   "metadata": {
    "execution": {
     "iopub.execute_input": "2022-07-11T11:12:16.698816Z",
     "iopub.status.busy": "2022-07-11T11:12:16.698501Z",
     "iopub.status.idle": "2022-07-11T11:12:16.708080Z",
     "shell.execute_reply": "2022-07-11T11:12:16.706538Z"
    },
    "papermill": {
     "duration": 0.017496,
     "end_time": "2022-07-11T11:12:16.710180",
     "exception": false,
     "start_time": "2022-07-11T11:12:16.692684",
     "status": "completed"
    },
    "tags": []
   },
   "outputs": [
    {
     "name": "stdout",
     "output_type": "stream",
     "text": [
      "            Avila Adobe  Firehouse Museum  Chinese American Museum  \\\n",
      "Date                                                                 \n",
      "2018-07-01        23136              4191                     2620   \n",
      "2018-08-01        20815              4866                     2409   \n",
      "2018-09-01        21020              4956                     2146   \n",
      "2018-10-01        19280              4622                     2364   \n",
      "2018-11-01        17163              4082                     2385   \n",
      "\n",
      "            America Tropical Interpretive Center  \n",
      "Date                                              \n",
      "2018-07-01                                  4718  \n",
      "2018-08-01                                  3891  \n",
      "2018-09-01                                  3180  \n",
      "2018-10-01                                  3775  \n",
      "2018-11-01                                  4562  \n"
     ]
    },
    {
     "data": {
      "text/markdown": [],
      "text/plain": [
       "<learntools.core.constants.PlaceholderValue at 0x7fb383f722d0>"
      ]
     },
     "execution_count": 5,
     "metadata": {},
     "output_type": "execute_result"
    }
   ],
   "source": [
    "# Print the last five rows of the data \n",
    "print(museum_data.tail())\n",
    "____ # Your code here"
   ]
  },
  {
   "cell_type": "markdown",
   "id": "5199e701",
   "metadata": {
    "papermill": {
     "duration": 0.005088,
     "end_time": "2022-07-11T11:12:16.721121",
     "exception": false,
     "start_time": "2022-07-11T11:12:16.716033",
     "status": "completed"
    },
    "tags": []
   },
   "source": [
    "The last row (for `2018-11-01`) tracks the number of visitors to each museum in November 2018, the next-to-last row (for `2018-10-01`) tracks the number of visitors to each museum in October 2018, _and so on_.\n",
    "\n",
    "Use the last 5 rows of the data to answer the questions below."
   ]
  },
  {
   "cell_type": "code",
   "execution_count": 6,
   "id": "bbf79cd3",
   "metadata": {
    "execution": {
     "iopub.execute_input": "2022-07-11T11:12:16.733841Z",
     "iopub.status.busy": "2022-07-11T11:12:16.732641Z",
     "iopub.status.idle": "2022-07-11T11:12:16.753182Z",
     "shell.execute_reply": "2022-07-11T11:12:16.752293Z"
    },
    "papermill": {
     "duration": 0.028595,
     "end_time": "2022-07-11T11:12:16.754889",
     "exception": false,
     "start_time": "2022-07-11T11:12:16.726294",
     "status": "completed"
    },
    "tags": []
   },
   "outputs": [
    {
     "name": "stdout",
     "output_type": "stream",
     "text": [
      "2620\n",
      "14658\n"
     ]
    },
    {
     "data": {
      "application/javascript": [
       "parent.postMessage({\"jupyterEvent\": \"custom.exercise_interaction\", \"data\": {\"outcomeType\": 1, \"valueTowardsCompletion\": 0.3333333333333333, \"interactionType\": 1, \"questionType\": 1, \"questionId\": \"2_ReviewData\", \"learnToolsVersion\": \"0.3.4\", \"failureMessage\": \"\", \"exceptionClass\": \"\", \"trace\": \"\"}}, \"*\")"
      ],
      "text/plain": [
       "<IPython.core.display.Javascript object>"
      ]
     },
     "metadata": {},
     "output_type": "display_data"
    },
    {
     "data": {
      "text/markdown": [
       "<span style=\"color:#33cc33\">Correct</span>"
      ],
      "text/plain": [
       "Correct"
      ]
     },
     "metadata": {},
     "output_type": "display_data"
    }
   ],
   "source": [
    "# Fill in the line below: How many visitors did the Chinese American Museum \n",
    "# receive in July 2018?\n",
    "ca_museum_jul18 = museum_data[\"Chinese American Museum\"].loc[\"2018-07-01\"] \n",
    "print(ca_museum_jul18)\n",
    "# Fill in the line below: In October 2018, how many more visitors did Avila \n",
    "# Adobe receive than the Firehouse Museum?\n",
    "avila_oct18 = museum_data[\"Avila Adobe\"].loc[\"2018-10-01\"] - museum_data[\"Firehouse Museum\"].loc[\"2018-10-01\"]\n",
    "print(avila_oct18)\n",
    "\n",
    "# Check your answers\n",
    "step_2.check()"
   ]
  },
  {
   "cell_type": "code",
   "execution_count": 7,
   "id": "49e8da48",
   "metadata": {
    "execution": {
     "iopub.execute_input": "2022-07-11T11:12:16.767264Z",
     "iopub.status.busy": "2022-07-11T11:12:16.766781Z",
     "iopub.status.idle": "2022-07-11T11:12:16.769963Z",
     "shell.execute_reply": "2022-07-11T11:12:16.769159Z"
    },
    "papermill": {
     "duration": 0.011895,
     "end_time": "2022-07-11T11:12:16.772083",
     "exception": false,
     "start_time": "2022-07-11T11:12:16.760188",
     "status": "completed"
    },
    "tags": []
   },
   "outputs": [],
   "source": [
    "# Lines below will give you a hint or solution code\n",
    "#step_2.hint()\n",
    "#step_2.solution()"
   ]
  },
  {
   "cell_type": "markdown",
   "id": "dba9331e",
   "metadata": {
    "papermill": {
     "duration": 0.005037,
     "end_time": "2022-07-11T11:12:16.782600",
     "exception": false,
     "start_time": "2022-07-11T11:12:16.777563",
     "status": "completed"
    },
    "tags": []
   },
   "source": [
    "## Step 3: Convince the museum board \n",
    "\n",
    "The Firehouse Museum claims they ran an event in 2014 that brought an incredible number of visitors, and that they should get extra budget to run a similar event again.  The other museums think these types of events aren't that important, and budgets should be split purely based on recent visitors on an average day.  \n",
    "\n",
    "To show the museum board how the event compared to regular traffic at each museum, create a line chart that shows how the number of visitors to each museum evolved over time.  Your figure should have four lines (one for each museum).\n",
    "\n",
    "> **(Optional) Note**: If you have some prior experience with plotting figures in Python, you might be familiar with the `plt.show()` command.  If you decide to use this command, please place it **after** the line of code that checks your answer (in this case, place it after `step_3.check()` below) -- otherwise, the checking code will return an error!"
   ]
  },
  {
   "cell_type": "code",
   "execution_count": 8,
   "id": "500952eb",
   "metadata": {
    "execution": {
     "iopub.execute_input": "2022-07-11T11:12:16.794772Z",
     "iopub.status.busy": "2022-07-11T11:12:16.794268Z",
     "iopub.status.idle": "2022-07-11T11:12:17.118827Z",
     "shell.execute_reply": "2022-07-11T11:12:17.117667Z"
    },
    "papermill": {
     "duration": 0.333302,
     "end_time": "2022-07-11T11:12:17.121075",
     "exception": false,
     "start_time": "2022-07-11T11:12:16.787773",
     "status": "completed"
    },
    "tags": []
   },
   "outputs": [
    {
     "data": {
      "application/javascript": [
       "parent.postMessage({\"jupyterEvent\": \"custom.exercise_interaction\", \"data\": {\"outcomeType\": 1, \"valueTowardsCompletion\": 0.3333333333333333, \"interactionType\": 1, \"questionType\": 2, \"questionId\": \"3_PlotAll\", \"learnToolsVersion\": \"0.3.4\", \"failureMessage\": \"\", \"exceptionClass\": \"\", \"trace\": \"\"}}, \"*\")"
      ],
      "text/plain": [
       "<IPython.core.display.Javascript object>"
      ]
     },
     "metadata": {},
     "output_type": "display_data"
    },
    {
     "data": {
      "text/markdown": [
       "<span style=\"color:#33cc33\">Correct</span>"
      ],
      "text/plain": [
       "Correct"
      ]
     },
     "metadata": {},
     "output_type": "display_data"
    },
    {
     "data": {
      "image/png": "[encoded data removed]",
      "text/plain": [
       "<Figure size 432x288 with 1 Axes>"
      ]
     },
     "metadata": {
      "needs_background": "light"
     },
     "output_type": "display_data"
    }
   ],
   "source": [
    "# Line chart showing the number of visitors to each museum over time\n",
    "sns.lineplot(data = museum_data) \n",
    "# Your code here\n",
    "\n",
    "# Check your answer\n",
    "step_3.check()"
   ]
  },
  {
   "cell_type": "code",
   "execution_count": 9,
   "id": "8cafb120",
   "metadata": {
    "execution": {
     "iopub.execute_input": "2022-07-11T11:12:17.136202Z",
     "iopub.status.busy": "2022-07-11T11:12:17.135841Z",
     "iopub.status.idle": "2022-07-11T11:12:17.140436Z",
     "shell.execute_reply": "2022-07-11T11:12:17.139566Z"
    },
    "papermill": {
     "duration": 0.014603,
     "end_time": "2022-07-11T11:12:17.142297",
     "exception": false,
     "start_time": "2022-07-11T11:12:17.127694",
     "status": "completed"
    },
    "tags": []
   },
   "outputs": [],
   "source": [
    "# Lines below will give you a hint or solution code\n",
    "#step_3.hint()\n",
    "#step_3.solution_plot()"
   ]
  },
  {
   "cell_type": "markdown",
   "id": "6b52fd77",
   "metadata": {
    "papermill": {
     "duration": 0.006166,
     "end_time": "2022-07-11T11:12:17.155147",
     "exception": false,
     "start_time": "2022-07-11T11:12:17.148981",
     "status": "completed"
    },
    "tags": []
   },
   "source": [
    "## Step 4: Assess seasonality\n",
    "\n",
    "When meeting with the employees at Avila Adobe, you hear that one major pain point is that the number of museum visitors varies greatly with the seasons, with low seasons (when the employees are perfectly staffed and happy) and also high seasons (when the employees are understaffed and stressed).  You realize that if you can predict these high and low seasons, you can plan ahead to hire some additional seasonal employees to help out with the extra work.\n",
    "\n",
    "#### Part A\n",
    "Create a line chart that shows how the number of visitors to Avila Adobe has evolved over time.  (_If your code returns an error, the first thing that you should check is that you've spelled the name of the column correctly!  You must write the name of the column exactly as it appears in the dataset._)"
   ]
  },
  {
   "cell_type": "code",
   "execution_count": 10,
   "id": "5be9845c",
   "metadata": {
    "execution": {
     "iopub.execute_input": "2022-07-11T11:12:17.170457Z",
     "iopub.status.busy": "2022-07-11T11:12:17.169368Z",
     "iopub.status.idle": "2022-07-11T11:12:17.380420Z",
     "shell.execute_reply": "2022-07-11T11:12:17.379562Z"
    },
    "papermill": {
     "duration": 0.220669,
     "end_time": "2022-07-11T11:12:17.382330",
     "exception": false,
     "start_time": "2022-07-11T11:12:17.161661",
     "status": "completed"
    },
    "tags": []
   },
   "outputs": [
    {
     "name": "stdout",
     "output_type": "stream",
     "text": [
      "Thank you for creating a line chart!  To see how your code compares to the official solution, please use the code cell below.\n"
     ]
    },
    {
     "data": {
      "application/javascript": [
       "parent.postMessage({\"jupyterEvent\": \"custom.exercise_interaction\", \"data\": {\"outcomeType\": 1, \"valueTowardsCompletion\": 0.3333333333333333, \"interactionType\": 1, \"questionType\": 2, \"questionId\": \"4.1_PlotAvila\", \"learnToolsVersion\": \"0.3.4\", \"failureMessage\": \"\", \"exceptionClass\": \"\", \"trace\": \"\"}}, \"*\")"
      ],
      "text/plain": [
       "<IPython.core.display.Javascript object>"
      ]
     },
     "metadata": {},
     "output_type": "display_data"
    },
    {
     "data": {
      "text/markdown": [
       "<span style=\"color:#33cc33\">Correct</span>"
      ],
      "text/plain": [
       "Correct"
      ]
     },
     "metadata": {},
     "output_type": "display_data"
    },
    {
     "data": {
      "image/png": "[encoded data removed]",
      "text/plain": [
       "<Figure size 1008x576 with 1 Axes>"
      ]
     },
     "metadata": {
      "needs_background": "light"
     },
     "output_type": "display_data"
    }
   ],
   "source": [
    "# Line plot showing the number of visitors to Avila Adobe over time\n",
    "plt.figure(figsize=(14,8))\n",
    "sns.lineplot(data = museum_data[\"Avila Adobe\"]) \n",
    "# Your code here\n",
    "\n",
    "# Check your answer\n",
    "step_4.a.check()"
   ]
  },
  {
   "cell_type": "code",
   "execution_count": 11,
   "id": "c355e000",
   "metadata": {
    "execution": {
     "iopub.execute_input": "2022-07-11T11:12:17.398833Z",
     "iopub.status.busy": "2022-07-11T11:12:17.397569Z",
     "iopub.status.idle": "2022-07-11T11:12:17.402235Z",
     "shell.execute_reply": "2022-07-11T11:12:17.401547Z"
    },
    "papermill": {
     "duration": 0.014768,
     "end_time": "2022-07-11T11:12:17.404245",
     "exception": false,
     "start_time": "2022-07-11T11:12:17.389477",
     "status": "completed"
    },
    "tags": []
   },
   "outputs": [],
   "source": [
    "# Lines below will give you a hint or solution code\n",
    "#step_4.a.hint()\n",
    "#step_4.a.solution_plot()"
   ]
  },
  {
   "cell_type": "markdown",
   "id": "8ff02825",
   "metadata": {
    "papermill": {
     "duration": 0.006672,
     "end_time": "2022-07-11T11:12:17.418141",
     "exception": false,
     "start_time": "2022-07-11T11:12:17.411469",
     "status": "completed"
    },
    "tags": []
   },
   "source": [
    "#### Part B\n",
    "\n",
    "Does Avila Adobe get more visitors:\n",
    "- in September-February (in LA, the fall and winter months), or \n",
    "- in March-August (in LA, the spring and summer)?  \n",
    "\n",
    "Using this information, when should the museum staff additional seasonal employees?"
   ]
  },
  {
   "cell_type": "code",
   "execution_count": 12,
   "id": "75ab8a95",
   "metadata": {
    "execution": {
     "iopub.execute_input": "2022-07-11T11:12:17.433368Z",
     "iopub.status.busy": "2022-07-11T11:12:17.432879Z",
     "iopub.status.idle": "2022-07-11T11:12:17.436437Z",
     "shell.execute_reply": "2022-07-11T11:12:17.435760Z"
    },
    "papermill": {
     "duration": 0.013743,
     "end_time": "2022-07-11T11:12:17.438685",
     "exception": false,
     "start_time": "2022-07-11T11:12:17.424942",
     "status": "completed"
    },
    "tags": []
   },
   "outputs": [],
   "source": [
    "#step_4.b.hint()"
   ]
  },
  {
   "cell_type": "code",
   "execution_count": 13,
   "id": "b7848622",
   "metadata": {
    "execution": {
     "iopub.execute_input": "2022-07-11T11:12:17.462111Z",
     "iopub.status.busy": "2022-07-11T11:12:17.461811Z",
     "iopub.status.idle": "2022-07-11T11:12:17.469568Z",
     "shell.execute_reply": "2022-07-11T11:12:17.468284Z"
    },
    "papermill": {
     "duration": 0.022037,
     "end_time": "2022-07-11T11:12:17.471691",
     "exception": false,
     "start_time": "2022-07-11T11:12:17.449654",
     "status": "completed"
    },
    "tags": []
   },
   "outputs": [
    {
     "data": {
      "application/javascript": [
       "parent.postMessage({\"jupyterEvent\": \"custom.exercise_interaction\", \"data\": {\"interactionType\": 3, \"questionType\": 4, \"questionId\": \"4.2_ThinkAvila\", \"learnToolsVersion\": \"0.3.4\", \"valueTowardsCompletion\": 0.0, \"failureMessage\": \"\", \"exceptionClass\": \"\", \"trace\": \"\", \"outcomeType\": 4}}, \"*\")"
      ],
      "text/plain": [
       "<IPython.core.display.Javascript object>"
      ]
     },
     "metadata": {},
     "output_type": "display_data"
    },
    {
     "data": {
      "text/markdown": [
       "<span style=\"color:#33cc99\">Solution:</span> The line chart generally dips to relatively low values around the early part of each year (in December and January), and reaches its highest values in the middle of the year (especially around May and June).  Thus, Avila Adobe usually gets more visitors in March-August (or the spring and summer months).  With this in mind, Avila Adobe could definitely benefit from hiring more seasonal employees to help with the extra work in March-August (the spring and summer)!"
      ],
      "text/plain": [
       "Solution: The line chart generally dips to relatively low values around the early part of each year (in December and January), and reaches its highest values in the middle of the year (especially around May and June).  Thus, Avila Adobe usually gets more visitors in March-August (or the spring and summer months).  With this in mind, Avila Adobe could definitely benefit from hiring more seasonal employees to help with the extra work in March-August (the spring and summer)!"
      ]
     },
     "metadata": {},
     "output_type": "display_data"
    }
   ],
   "source": [
    "# Check your answer (Run this code cell to receive credit!)\n",
    "step_4.b.solution()"
   ]
  },
  {
   "cell_type": "markdown",
   "id": "2d8718b0",
   "metadata": {
    "papermill": {
     "duration": 0.011048,
     "end_time": "2022-07-11T11:12:17.493851",
     "exception": false,
     "start_time": "2022-07-11T11:12:17.482803",
     "status": "completed"
    },
    "tags": []
   },
   "source": [
    "# Keep going\n",
    "\n",
    "Move on to learn about **[bar charts and heatmaps](https://www.kaggle.com/alexisbcook/bar-charts-and-heatmaps)** with a new dataset!"
   ]
  },
  {
   "cell_type": "markdown",
   "id": "8424335a",
   "metadata": {
    "papermill": {
     "duration": 0.010442,
     "end_time": "2022-07-11T11:12:17.514965",
     "exception": false,
     "start_time": "2022-07-11T11:12:17.504523",
     "status": "completed"
    },
    "tags": []
   },
   "source": [
    "---\n",
    "\n",
    "\n",
    "\n",
    "\n",
    "*Have questions or comments? Visit the [course discussion forum](https://www.kaggle.com/learn/data-visualization/discussion) to chat with other learners.*"
   ]
  }
 ],
 "metadata": {
  "kernelspec": {
   "display_name": "Python 3",
   "language": "python",
   "name": "python3"
  },
  "language_info": {
   "codemirror_mode": {
    "name": "ipython",
    "version": 3
   },
   "file_extension": ".py",
   "mimetype": "text/x-python",
   "name": "python",
   "nbconvert_exporter": "python",
   "pygments_lexer": "ipython3",
   "version": "3.7.12"
  },
  "papermill": {
   "default_parameters": {},
   "duration": 14.58751,
   "end_time": "2022-07-11T11:12:18.246953",
   "environment_variables": {},
   "exception": null,
   "input_path": "__notebook__.ipynb",
   "output_path": "__notebook__.ipynb",
   "parameters": {},
   "start_time": "2022-07-11T11:12:03.659443",
   "version": "2.3.4"
  }
 },
 "nbformat": 4,
 "nbformat_minor": 5
}

{
 "cells": [
  {
   "cell_type": "markdown",
   "id": "85217bdb",
   "metadata": {
    "papermill": {
     "duration": 0.011162,
     "end_time": "2022-07-11T13:45:48.653654",
     "exception": false,
     "start_time": "2022-07-11T13:45:48.642492",
     "status": "completed"
    },
    "tags": []
   },
   "source": [
    "**This notebook is an exercise in the [Data Visualization](https://www.kaggle.com/learn/data-visualization) course.  You can reference the tutorial at [this link](https://www.kaggle.com/alexisbcook/scatter-plots).**\n",
    "\n",
    "---\n"
   ]
  },
  {
   "cell_type": "markdown",
   "id": "d56b54eb",
   "metadata": {
    "papermill": {
     "duration": 0.009523,
     "end_time": "2022-07-11T13:45:48.673375",
     "exception": false,
     "start_time": "2022-07-11T13:45:48.663852",
     "status": "completed"
    },
    "tags": []
   },
   "source": [
    "In this exercise, you will use your new knowledge to propose a solution to a real-world scenario.  To succeed, you will need to import data into Python, answer questions using the data, and generate **scatter plots** to understand patterns in the data.\n",
    "\n",
    "## Scenario\n",
    "\n",
    "You work for a major candy producer, and your goal is to write a report that your company can use to guide the design of its next product.  Soon after starting your research, you stumble across this [very interesting dataset](https://fivethirtyeight.com/features/the-ultimate-halloween-candy-power-ranking/) containing results from a fun survey to crowdsource favorite candies.\n",
    "\n",
    "## Setup\n",
    "\n",
    "Run the next cell to import and configure the Python libraries that you need to complete the exercise."
   ]
  },
  {
   "cell_type": "code",
   "execution_count": 1,
   "id": "cc9774d0",
   "metadata": {
    "execution": {
     "iopub.execute_input": "2022-07-11T13:45:48.695024Z",
     "iopub.status.busy": "2022-07-11T13:45:48.694123Z",
     "iopub.status.idle": "2022-07-11T13:45:49.842945Z",
     "shell.execute_reply": "2022-07-11T13:45:49.841748Z"
    },
    "papermill": {
     "duration": 1.163531,
     "end_time": "2022-07-11T13:45:49.846381",
     "exception": false,
     "start_time": "2022-07-11T13:45:48.682850",
     "status": "completed"
    },
    "tags": []
   },
   "outputs": [
    {
     "name": "stdout",
     "output_type": "stream",
     "text": [
      "Setup Complete\n"
     ]
    }
   ],
   "source": [
    "import pandas as pd\n",
    "pd.plotting.register_matplotlib_converters()\n",
    "import matplotlib.pyplot as plt\n",
    "%matplotlib inline\n",
    "import seaborn as sns\n",
    "print(\"Setup Complete\")"
   ]
  },
  {
   "cell_type": "markdown",
   "id": "a3d28fba",
   "metadata": {
    "papermill": {
     "duration": 0.00939,
     "end_time": "2022-07-11T13:45:49.865512",
     "exception": false,
     "start_time": "2022-07-11T13:45:49.856122",
     "status": "completed"
    },
    "tags": []
   },
   "source": [
    "The questions below will give you feedback on your work. Run the following cell to set up our feedback system."
   ]
  },
  {
   "cell_type": "code",
   "execution_count": 2,
   "id": "26285b4c",
   "metadata": {
    "execution": {
     "iopub.execute_input": "2022-07-11T13:45:49.886964Z",
     "iopub.status.busy": "2022-07-11T13:45:49.886486Z",
     "iopub.status.idle": "2022-07-11T13:45:49.954637Z",
     "shell.execute_reply": "2022-07-11T13:45:49.953132Z"
    },
    "papermill": {
     "duration": 0.083127,
     "end_time": "2022-07-11T13:45:49.958192",
     "exception": false,
     "start_time": "2022-07-11T13:45:49.875065",
     "status": "completed"
    },
    "tags": []
   },
   "outputs": [
    {
     "name": "stdout",
     "output_type": "stream",
     "text": [
      "Setup Complete\n"
     ]
    }
   ],
   "source": [
    "# Set up code checking\n",
    "import os\n",
    "if not os.path.exists(\"../input/candy.csv\"):\n",
    "    os.symlink(\"../input/data-for-datavis/candy.csv\", \"../input/candy.csv\") \n",
    "from learntools.core import binder\n",
    "binder.bind(globals())\n",
    "from learntools.data_viz_to_coder.ex4 import *\n",
    "print(\"Setup Complete\")"
   ]
  },
  {
   "cell_type": "markdown",
   "id": "2db20fb0",
   "metadata": {
    "papermill": {
     "duration": 0.009466,
     "end_time": "2022-07-11T13:45:49.977970",
     "exception": false,
     "start_time": "2022-07-11T13:45:49.968504",
     "status": "completed"
    },
    "tags": []
   },
   "source": [
    "## Step 1: Load the Data\n",
    "\n",
    "Read the candy data file into `candy_data`.  Use the `\"id\"` column to label the rows."
   ]
  },
  {
   "cell_type": "code",
   "execution_count": 3,
   "id": "915e5ca7",
   "metadata": {
    "execution": {
     "iopub.execute_input": "2022-07-11T13:45:49.999906Z",
     "iopub.status.busy": "2022-07-11T13:45:49.999431Z",
     "iopub.status.idle": "2022-07-11T13:45:50.016532Z",
     "shell.execute_reply": "2022-07-11T13:45:50.015649Z"
    },
    "papermill": {
     "duration": 0.031143,
     "end_time": "2022-07-11T13:45:50.018798",
     "exception": false,
     "start_time": "2022-07-11T13:45:49.987655",
     "status": "completed"
    },
    "tags": []
   },
   "outputs": [
    {
     "data": {
      "application/javascript": [
       "parent.postMessage({\"jupyterEvent\": \"custom.exercise_interaction\", \"data\": {\"outcomeType\": 1, \"valueTowardsCompletion\": 0.3333333333333333, \"interactionType\": 1, \"questionType\": 1, \"questionId\": \"1_LoadData\", \"learnToolsVersion\": \"0.3.4\", \"failureMessage\": \"\", \"exceptionClass\": \"\", \"trace\": \"\"}}, \"*\")"
      ],
      "text/plain": [
       "<IPython.core.display.Javascript object>"
      ]
     },
     "metadata": {},
     "output_type": "display_data"
    },
    {
     "data": {
      "text/markdown": [
       "<span style=\"color:#33cc33\">Correct</span>"
      ],
      "text/plain": [
       "Correct"
      ]
     },
     "metadata": {},
     "output_type": "display_data"
    }
   ],
   "source": [
    "# Path of the file to read\n",
    "candy_filepath = \"../input/candy.csv\"\n",
    "\n",
    "# Fill in the line below to read the file into a variable candy_data\n",
    "candy_data = pd.read_csv(candy_filepath, index_col=\"id\")\n",
    "\n",
    "# Run the line below with no changes to check that you've loaded the data correctly\n",
    "step_1.check()"
   ]
  },
  {
   "cell_type": "code",
   "execution_count": 4,
   "id": "de634145",
   "metadata": {
    "execution": {
     "iopub.execute_input": "2022-07-11T13:45:50.041162Z",
     "iopub.status.busy": "2022-07-11T13:45:50.040336Z",
     "iopub.status.idle": "2022-07-11T13:45:50.044502Z",
     "shell.execute_reply": "2022-07-11T13:45:50.043657Z"
    },
    "papermill": {
     "duration": 0.018008,
     "end_time": "2022-07-11T13:45:50.046717",
     "exception": false,
     "start_time": "2022-07-11T13:45:50.028709",
     "status": "completed"
    },
    "tags": []
   },
   "outputs": [],
   "source": [
    "# Lines below will give you a hint or solution code\n",
    "#step_1.hint()\n",
    "#step_1.solution()"
   ]
  },
  {
   "cell_type": "markdown",
   "id": "7be44539",
   "metadata": {
    "papermill": {
     "duration": 0.009529,
     "end_time": "2022-07-11T13:45:50.067031",
     "exception": false,
     "start_time": "2022-07-11T13:45:50.057502",
     "status": "completed"
    },
    "tags": []
   },
   "source": [
    "## Step 2: Review the data\n",
    "\n",
    "Use a Python command to print the first five rows of the data."
   ]
  },
  {
   "cell_type": "code",
   "execution_count": 5,
   "id": "1da32f71",
   "metadata": {
    "execution": {
     "iopub.execute_input": "2022-07-11T13:45:50.089888Z",
     "iopub.status.busy": "2022-07-11T13:45:50.089059Z",
     "iopub.status.idle": "2022-07-11T13:45:50.112891Z",
     "shell.execute_reply": "2022-07-11T13:45:50.111319Z"
    },
    "papermill": {
     "duration": 0.038367,
     "end_time": "2022-07-11T13:45:50.115341",
     "exception": false,
     "start_time": "2022-07-11T13:45:50.076974",
     "status": "completed"
    },
    "tags": []
   },
   "outputs": [
    {
     "data": {
      "text/html": [
       "<div>\n",
       "<style scoped>\n",
       "    .dataframe tbody tr th:only-of-type {\n",
       "        vertical-align: middle;\n",
       "    }\n",
       "\n",
       "    .dataframe tbody tr th {\n",
       "        vertical-align: top;\n",
       "    }\n",
       "\n",
       "    .dataframe thead th {\n",
       "        text-align: right;\n",
       "    }\n",
       "</style>\n",
       "<table border=\"1\" class=\"dataframe\">\n",
       "  <thead>\n",
       "    <tr style=\"text-align: right;\">\n",
       "      <th></th>\n",
       "      <th>competitorname</th>\n",
       "      <th>chocolate</th>\n",
       "      <th>fruity</th>\n",
       "      <th>caramel</th>\n",
       "      <th>peanutyalmondy</th>\n",
       "      <th>nougat</th>\n",
       "      <th>crispedricewafer</th>\n",
       "      <th>hard</th>\n",
       "      <th>bar</th>\n",
       "      <th>pluribus</th>\n",
       "      <th>sugarpercent</th>\n",
       "      <th>pricepercent</th>\n",
       "      <th>winpercent</th>\n",
       "    </tr>\n",
       "    <tr>\n",
       "      <th>id</th>\n",
       "      <th></th>\n",
       "      <th></th>\n",
       "      <th></th>\n",
       "      <th></th>\n",
       "      <th></th>\n",
       "      <th></th>\n",
       "      <th></th>\n",
       "      <th></th>\n",
       "      <th></th>\n",
       "      <th></th>\n",
       "      <th></th>\n",
       "      <th></th>\n",
       "      <th></th>\n",
       "    </tr>\n",
       "  </thead>\n",
       "  <tbody>\n",
       "    <tr>\n",
       "      <th>0</th>\n",
       "      <td>100 Grand</td>\n",
       "      <td>Yes</td>\n",
       "      <td>No</td>\n",
       "      <td>Yes</td>\n",
       "      <td>No</td>\n",
       "      <td>No</td>\n",
       "      <td>Yes</td>\n",
       "      <td>No</td>\n",
       "      <td>Yes</td>\n",
       "      <td>No</td>\n",
       "      <td>0.732</td>\n",
       "      <td>0.860</td>\n",
       "      <td>66.971725</td>\n",
       "    </tr>\n",
       "    <tr>\n",
       "      <th>1</th>\n",
       "      <td>3 Musketeers</td>\n",
       "      <td>Yes</td>\n",
       "      <td>No</td>\n",
       "      <td>No</td>\n",
       "      <td>No</td>\n",
       "      <td>Yes</td>\n",
       "      <td>No</td>\n",
       "      <td>No</td>\n",
       "      <td>Yes</td>\n",
       "      <td>No</td>\n",
       "      <td>0.604</td>\n",
       "      <td>0.511</td>\n",
       "      <td>67.602936</td>\n",
       "    </tr>\n",
       "    <tr>\n",
       "      <th>2</th>\n",
       "      <td>Air Heads</td>\n",
       "      <td>No</td>\n",
       "      <td>Yes</td>\n",
       "      <td>No</td>\n",
       "      <td>No</td>\n",
       "      <td>No</td>\n",
       "      <td>No</td>\n",
       "      <td>No</td>\n",
       "      <td>No</td>\n",
       "      <td>No</td>\n",
       "      <td>0.906</td>\n",
       "      <td>0.511</td>\n",
       "      <td>52.341465</td>\n",
       "    </tr>\n",
       "    <tr>\n",
       "      <th>3</th>\n",
       "      <td>Almond Joy</td>\n",
       "      <td>Yes</td>\n",
       "      <td>No</td>\n",
       "      <td>No</td>\n",
       "      <td>Yes</td>\n",
       "      <td>No</td>\n",
       "      <td>No</td>\n",
       "      <td>No</td>\n",
       "      <td>Yes</td>\n",
       "      <td>No</td>\n",
       "      <td>0.465</td>\n",
       "      <td>0.767</td>\n",
       "      <td>50.347546</td>\n",
       "    </tr>\n",
       "    <tr>\n",
       "      <th>4</th>\n",
       "      <td>Baby Ruth</td>\n",
       "      <td>Yes</td>\n",
       "      <td>No</td>\n",
       "      <td>Yes</td>\n",
       "      <td>Yes</td>\n",
       "      <td>Yes</td>\n",
       "      <td>No</td>\n",
       "      <td>No</td>\n",
       "      <td>Yes</td>\n",
       "      <td>No</td>\n",
       "      <td>0.604</td>\n",
       "      <td>0.767</td>\n",
       "      <td>56.914547</td>\n",
       "    </tr>\n",
       "  </tbody>\n",
       "</table>\n",
       "</div>"
      ],
      "text/plain": [
       "   competitorname chocolate fruity caramel peanutyalmondy nougat  \\\n",
       "id                                                                 \n",
       "0       100 Grand       Yes     No     Yes             No     No   \n",
       "1    3 Musketeers       Yes     No      No             No    Yes   \n",
       "2       Air Heads        No    Yes      No             No     No   \n",
       "3      Almond Joy       Yes     No      No            Yes     No   \n",
       "4       Baby Ruth       Yes     No     Yes            Yes    Yes   \n",
       "\n",
       "   crispedricewafer hard  bar pluribus  sugarpercent  pricepercent  winpercent  \n",
       "id                                                                              \n",
       "0               Yes   No  Yes       No         0.732         0.860   66.971725  \n",
       "1                No   No  Yes       No         0.604         0.511   67.602936  \n",
       "2                No   No   No       No         0.906         0.511   52.341465  \n",
       "3                No   No  Yes       No         0.465         0.767   50.347546  \n",
       "4                No   No  Yes       No         0.604         0.767   56.914547  "
      ]
     },
     "execution_count": 5,
     "metadata": {},
     "output_type": "execute_result"
    }
   ],
   "source": [
    "# Print the first five rows of the data\n",
    "candy_data.head()\n",
    "# Your code here"
   ]
  },
  {
   "cell_type": "markdown",
   "id": "1a0d05e5",
   "metadata": {
    "papermill": {
     "duration": 0.010151,
     "end_time": "2022-07-11T13:45:50.136010",
     "exception": false,
     "start_time": "2022-07-11T13:45:50.125859",
     "status": "completed"
    },
    "tags": []
   },
   "source": [
    "The dataset contains 83 rows, where each corresponds to a different candy bar.  There are 13 columns:\n",
    "- `'competitorname'` contains the name of the candy bar. \n",
    "- the next **9** columns (from `'chocolate'` to `'pluribus'`) describe the candy.  For instance, rows with chocolate candies have `\"Yes\"` in the `'chocolate'` column (and candies without chocolate have `\"No\"` in the same column).\n",
    "- `'sugarpercent'` provides some indication of the amount of sugar, where higher values signify higher sugar content.\n",
    "- `'pricepercent'` shows the price per unit, relative to the other candies in the dataset.\n",
    "- `'winpercent'` is calculated from the survey results; higher values indicate that the candy was more popular with survey respondents.\n",
    "\n",
    "Use the first five rows of the data to answer the questions below."
   ]
  },
  {
   "cell_type": "code",
   "execution_count": 6,
   "id": "fa1180cd",
   "metadata": {
    "execution": {
     "iopub.execute_input": "2022-07-11T13:45:50.159892Z",
     "iopub.status.busy": "2022-07-11T13:45:50.159223Z",
     "iopub.status.idle": "2022-07-11T13:45:50.167419Z",
     "shell.execute_reply": "2022-07-11T13:45:50.166104Z"
    },
    "papermill": {
     "duration": 0.023261,
     "end_time": "2022-07-11T13:45:50.169729",
     "exception": false,
     "start_time": "2022-07-11T13:45:50.146468",
     "status": "completed"
    },
    "tags": []
   },
   "outputs": [
    {
     "data": {
      "application/javascript": [
       "parent.postMessage({\"jupyterEvent\": \"custom.exercise_interaction\", \"data\": {\"outcomeType\": 1, \"valueTowardsCompletion\": 0.3333333333333333, \"interactionType\": 1, \"questionType\": 1, \"questionId\": \"2_ReviewData\", \"learnToolsVersion\": \"0.3.4\", \"failureMessage\": \"\", \"exceptionClass\": \"\", \"trace\": \"\"}}, \"*\")"
      ],
      "text/plain": [
       "<IPython.core.display.Javascript object>"
      ]
     },
     "metadata": {},
     "output_type": "display_data"
    },
    {
     "data": {
      "text/markdown": [
       "<span style=\"color:#33cc33\">Correct</span>"
      ],
      "text/plain": [
       "Correct"
      ]
     },
     "metadata": {},
     "output_type": "display_data"
    }
   ],
   "source": [
    "# Fill in the line below: Which candy was more popular with survey respondents:\n",
    "# '3 Musketeers' or 'Almond Joy'?  (Please enclose your answer in single quotes.)\n",
    "more_popular = \"3 Musketeers\"\n",
    "\n",
    "# Fill in the line below: Which candy has higher sugar content: 'Air Heads'\n",
    "# or 'Baby Ruth'? (Please enclose your answer in single quotes.)\n",
    "more_sugar = \"Air Heads\"\n",
    "\n",
    "# Check your answers\n",
    "step_2.check()"
   ]
  },
  {
   "cell_type": "code",
   "execution_count": 7,
   "id": "3233a748",
   "metadata": {
    "execution": {
     "iopub.execute_input": "2022-07-11T13:45:50.193498Z",
     "iopub.status.busy": "2022-07-11T13:45:50.192864Z",
     "iopub.status.idle": "2022-07-11T13:45:50.196589Z",
     "shell.execute_reply": "2022-07-11T13:45:50.195821Z"
    },
    "papermill": {
     "duration": 0.01839,
     "end_time": "2022-07-11T13:45:50.198927",
     "exception": false,
     "start_time": "2022-07-11T13:45:50.180537",
     "status": "completed"
    },
    "tags": []
   },
   "outputs": [],
   "source": [
    "# Lines below will give you a hint or solution code\n",
    "#step_2.hint()\n",
    "#step_2.solution()"
   ]
  },
  {
   "cell_type": "markdown",
   "id": "617bbc8d",
   "metadata": {
    "papermill": {
     "duration": 0.010548,
     "end_time": "2022-07-11T13:45:50.220671",
     "exception": false,
     "start_time": "2022-07-11T13:45:50.210123",
     "status": "completed"
    },
    "tags": []
   },
   "source": [
    "## Step 3: The role of sugar\n",
    "\n",
    "Do people tend to prefer candies with higher sugar content?  \n",
    "\n",
    "#### Part A\n",
    "\n",
    "Create a scatter plot that shows the relationship between `'sugarpercent'` (on the horizontal x-axis) and `'winpercent'` (on the vertical y-axis).  _Don't add a regression line just yet -- you'll do that in the next step!_"
   ]
  },
  {
   "cell_type": "code",
   "execution_count": 8,
   "id": "9ace3337",
   "metadata": {
    "execution": {
     "iopub.execute_input": "2022-07-11T13:45:50.244718Z",
     "iopub.status.busy": "2022-07-11T13:45:50.244059Z",
     "iopub.status.idle": "2022-07-11T13:45:50.482157Z",
     "shell.execute_reply": "2022-07-11T13:45:50.480976Z"
    },
    "papermill": {
     "duration": 0.253076,
     "end_time": "2022-07-11T13:45:50.484567",
     "exception": false,
     "start_time": "2022-07-11T13:45:50.231491",
     "status": "completed"
    },
    "tags": []
   },
   "outputs": [
    {
     "data": {
      "application/javascript": [
       "parent.postMessage({\"jupyterEvent\": \"custom.exercise_interaction\", \"data\": {\"outcomeType\": 1, \"valueTowardsCompletion\": 0.3333333333333333, \"interactionType\": 1, \"questionType\": 2, \"questionId\": \"3.1_PlotBlueScatter\", \"learnToolsVersion\": \"0.3.4\", \"failureMessage\": \"\", \"exceptionClass\": \"\", \"trace\": \"\"}}, \"*\")"
      ],
      "text/plain": [
       "<IPython.core.display.Javascript object>"
      ]
     },
     "metadata": {},
     "output_type": "display_data"
    },
    {
     "data": {
      "text/markdown": [
       "<span style=\"color:#33cc33\">Correct</span>"
      ],
      "text/plain": [
       "Correct"
      ]
     },
     "metadata": {},
     "output_type": "display_data"
    },
    {
     "data": {
      "image/png": "[encoded data removed]",
      "text/plain": [
       "<Figure size 432x288 with 1 Axes>"
      ]
     },
     "metadata": {
      "needs_background": "light"
     },
     "output_type": "display_data"
    }
   ],
   "source": [
    "# Scatter plot showing the relationship between 'sugarpercent' and 'winpercent'\n",
    "#plt.figure(figsize=(14,8))\n",
    "sns.scatterplot(x = candy_data[\"sugarpercent\"], y = candy_data[\"winpercent\"])\n",
    "# Your code here\n",
    "\n",
    "# Check your answer\n",
    "step_3.a.check()"
   ]
  },
  {
   "cell_type": "code",
   "execution_count": 9,
   "id": "508af9aa",
   "metadata": {
    "execution": {
     "iopub.execute_input": "2022-07-11T13:45:50.509598Z",
     "iopub.status.busy": "2022-07-11T13:45:50.508948Z",
     "iopub.status.idle": "2022-07-11T13:45:50.512627Z",
     "shell.execute_reply": "2022-07-11T13:45:50.511874Z"
    },
    "papermill": {
     "duration": 0.018829,
     "end_time": "2022-07-11T13:45:50.514831",
     "exception": false,
     "start_time": "2022-07-11T13:45:50.496002",
     "status": "completed"
    },
    "tags": []
   },
   "outputs": [],
   "source": [
    "# Lines below will give you a hint or solution code\n",
    "#step_3.a.hint()\n",
    "#step_3.a.solution_plot()"
   ]
  },
  {
   "cell_type": "markdown",
   "id": "46a0355f",
   "metadata": {
    "papermill": {
     "duration": 0.010845,
     "end_time": "2022-07-11T13:45:50.537213",
     "exception": false,
     "start_time": "2022-07-11T13:45:50.526368",
     "status": "completed"
    },
    "tags": []
   },
   "source": [
    "#### Part B\n",
    "\n",
    "Does the scatter plot show a **strong** correlation between the two variables?  If so, are candies with more sugar relatively more or less popular with the survey respondents?"
   ]
  },
  {
   "cell_type": "code",
   "execution_count": 10,
   "id": "189e603a",
   "metadata": {
    "execution": {
     "iopub.execute_input": "2022-07-11T13:45:50.562991Z",
     "iopub.status.busy": "2022-07-11T13:45:50.562143Z",
     "iopub.status.idle": "2022-07-11T13:45:50.566612Z",
     "shell.execute_reply": "2022-07-11T13:45:50.565857Z"
    },
    "papermill": {
     "duration": 0.019955,
     "end_time": "2022-07-11T13:45:50.568942",
     "exception": false,
     "start_time": "2022-07-11T13:45:50.548987",
     "status": "completed"
    },
    "tags": []
   },
   "outputs": [],
   "source": [
    "#step_3.b.hint()"
   ]
  },
  {
   "cell_type": "code",
   "execution_count": 11,
   "id": "2160bd5d",
   "metadata": {
    "execution": {
     "iopub.execute_input": "2022-07-11T13:45:50.594668Z",
     "iopub.status.busy": "2022-07-11T13:45:50.593805Z",
     "iopub.status.idle": "2022-07-11T13:45:50.601842Z",
     "shell.execute_reply": "2022-07-11T13:45:50.600862Z"
    },
    "papermill": {
     "duration": 0.023867,
     "end_time": "2022-07-11T13:45:50.604294",
     "exception": false,
     "start_time": "2022-07-11T13:45:50.580427",
     "status": "completed"
    },
    "tags": []
   },
   "outputs": [
    {
     "data": {
      "application/javascript": [
       "parent.postMessage({\"jupyterEvent\": \"custom.exercise_interaction\", \"data\": {\"interactionType\": 3, \"questionType\": 4, \"questionId\": \"3.2_ThinkBlueScatter\", \"learnToolsVersion\": \"0.3.4\", \"valueTowardsCompletion\": 0.0, \"failureMessage\": \"\", \"exceptionClass\": \"\", \"trace\": \"\", \"outcomeType\": 4}}, \"*\")"
      ],
      "text/plain": [
       "<IPython.core.display.Javascript object>"
      ]
     },
     "metadata": {},
     "output_type": "display_data"
    },
    {
     "data": {
      "text/markdown": [
       "<span style=\"color:#33cc99\">Solution:</span> The scatter plot does not show a strong correlation between the two variables. Since there is no clear relationship between the two variables, this tells us that sugar content does not play a strong role in candy popularity."
      ],
      "text/plain": [
       "Solution: The scatter plot does not show a strong correlation between the two variables. Since there is no clear relationship between the two variables, this tells us that sugar content does not play a strong role in candy popularity."
      ]
     },
     "metadata": {},
     "output_type": "display_data"
    }
   ],
   "source": [
    "# Check your answer (Run this code cell to receive credit!)\n",
    "step_3.b.solution()"
   ]
  },
  {
   "cell_type": "markdown",
   "id": "b9ca198d",
   "metadata": {
    "papermill": {
     "duration": 0.011086,
     "end_time": "2022-07-11T13:45:50.627610",
     "exception": false,
     "start_time": "2022-07-11T13:45:50.616524",
     "status": "completed"
    },
    "tags": []
   },
   "source": [
    "## Step 4: Take a closer look\n",
    "\n",
    "#### Part A\n",
    "\n",
    "Create the same scatter plot you created in **Step 3**, but now with a regression line!"
   ]
  },
  {
   "cell_type": "code",
   "execution_count": 12,
   "id": "3ffac8a2",
   "metadata": {
    "execution": {
     "iopub.execute_input": "2022-07-11T13:45:50.652857Z",
     "iopub.status.busy": "2022-07-11T13:45:50.652056Z",
     "iopub.status.idle": "2022-07-11T13:45:50.969770Z",
     "shell.execute_reply": "2022-07-11T13:45:50.968629Z"
    },
    "papermill": {
     "duration": 0.333332,
     "end_time": "2022-07-11T13:45:50.972363",
     "exception": false,
     "start_time": "2022-07-11T13:45:50.639031",
     "status": "completed"
    },
    "tags": []
   },
   "outputs": [
    {
     "data": {
      "application/javascript": [
       "parent.postMessage({\"jupyterEvent\": \"custom.exercise_interaction\", \"data\": {\"outcomeType\": 1, \"valueTowardsCompletion\": 0.3333333333333333, \"interactionType\": 1, \"questionType\": 2, \"questionId\": \"4.1_PlotBlueReg\", \"learnToolsVersion\": \"0.3.4\", \"failureMessage\": \"\", \"exceptionClass\": \"\", \"trace\": \"\"}}, \"*\")"
      ],
      "text/plain": [
       "<IPython.core.display.Javascript object>"
      ]
     },
     "metadata": {},
     "output_type": "display_data"
    },
    {
     "data": {
      "text/markdown": [
       "<span style=\"color:#33cc33\">Correct</span>"
      ],
      "text/plain": [
       "Correct"
      ]
     },
     "metadata": {},
     "output_type": "display_data"
    },
    {
     "data": {
      "image/png": "[encoded data removed]",
      "text/plain": [
       "<Figure size 432x288 with 1 Axes>"
      ]
     },
     "metadata": {
      "needs_background": "light"
     },
     "output_type": "display_data"
    }
   ],
   "source": [
    "# Scatter plot w/ regression line showing the relationship between 'sugarpercent' and 'winpercent'\n",
    "sns.regplot(x = candy_data[\"sugarpercent\"], y = candy_data[\"winpercent\"])\n",
    "____ # Your code here\n",
    "\n",
    "# Check your answer\n",
    "step_4.a.check()"
   ]
  },
  {
   "cell_type": "code",
   "execution_count": 13,
   "id": "34e11465",
   "metadata": {
    "execution": {
     "iopub.execute_input": "2022-07-11T13:45:50.998867Z",
     "iopub.status.busy": "2022-07-11T13:45:50.998103Z",
     "iopub.status.idle": "2022-07-11T13:45:51.003495Z",
     "shell.execute_reply": "2022-07-11T13:45:51.002444Z"
    },
    "papermill": {
     "duration": 0.021454,
     "end_time": "2022-07-11T13:45:51.005960",
     "exception": false,
     "start_time": "2022-07-11T13:45:50.984506",
     "status": "completed"
    },
    "tags": []
   },
   "outputs": [],
   "source": [
    "# Lines below will give you a hint or solution code\n",
    "#step_4.a.hint()\n",
    "#step_4.a.solution_plot()"
   ]
  },
  {
   "cell_type": "markdown",
   "id": "2c086da3",
   "metadata": {
    "papermill": {
     "duration": 0.012258,
     "end_time": "2022-07-11T13:45:51.030905",
     "exception": false,
     "start_time": "2022-07-11T13:45:51.018647",
     "status": "completed"
    },
    "tags": []
   },
   "source": [
    "#### Part B\n",
    "\n",
    "According to the plot above, is there a **slight** correlation between `'winpercent'` and `'sugarpercent'`?  What does this tell you about the candy that people tend to prefer?"
   ]
  },
  {
   "cell_type": "code",
   "execution_count": 14,
   "id": "466de3e6",
   "metadata": {
    "execution": {
     "iopub.execute_input": "2022-07-11T13:45:51.056735Z",
     "iopub.status.busy": "2022-07-11T13:45:51.056328Z",
     "iopub.status.idle": "2022-07-11T13:45:51.061321Z",
     "shell.execute_reply": "2022-07-11T13:45:51.060163Z"
    },
    "papermill": {
     "duration": 0.020611,
     "end_time": "2022-07-11T13:45:51.063683",
     "exception": false,
     "start_time": "2022-07-11T13:45:51.043072",
     "status": "completed"
    },
    "tags": []
   },
   "outputs": [],
   "source": [
    "#step_4.b.hint()"
   ]
  },
  {
   "cell_type": "code",
   "execution_count": 15,
   "id": "8ff861fc",
   "metadata": {
    "execution": {
     "iopub.execute_input": "2022-07-11T13:45:51.090205Z",
     "iopub.status.busy": "2022-07-11T13:45:51.089764Z",
     "iopub.status.idle": "2022-07-11T13:45:51.099329Z",
     "shell.execute_reply": "2022-07-11T13:45:51.098185Z"
    },
    "papermill": {
     "duration": 0.025482,
     "end_time": "2022-07-11T13:45:51.101627",
     "exception": false,
     "start_time": "2022-07-11T13:45:51.076145",
     "status": "completed"
    },
    "tags": []
   },
   "outputs": [
    {
     "data": {
      "application/javascript": [
       "parent.postMessage({\"jupyterEvent\": \"custom.exercise_interaction\", \"data\": {\"interactionType\": 3, \"questionType\": 4, \"questionId\": \"4.2_ThinkBlueReg\", \"learnToolsVersion\": \"0.3.4\", \"valueTowardsCompletion\": 0.0, \"failureMessage\": \"\", \"exceptionClass\": \"\", \"trace\": \"\", \"outcomeType\": 4}}, \"*\")"
      ],
      "text/plain": [
       "<IPython.core.display.Javascript object>"
      ]
     },
     "metadata": {},
     "output_type": "display_data"
    },
    {
     "data": {
      "text/markdown": [
       "<span style=\"color:#33cc99\">Solution:</span> Since the regression line has a slightly positive slope, this tells us that there is a slightly positive correlation between `'winpercent'` and `'sugarpercent'`. Thus, people have a slight preference for candies containing relatively more sugar."
      ],
      "text/plain": [
       "Solution: Since the regression line has a slightly positive slope, this tells us that there is a slightly positive correlation between `'winpercent'` and `'sugarpercent'`. Thus, people have a slight preference for candies containing relatively more sugar."
      ]
     },
     "metadata": {},
     "output_type": "display_data"
    }
   ],
   "source": [
    "# Check your answer (Run this code cell to receive credit!)\n",
    "step_4.b.solution()"
   ]
  },
  {
   "cell_type": "markdown",
   "id": "803f176a",
   "metadata": {
    "papermill": {
     "duration": 0.01201,
     "end_time": "2022-07-11T13:45:51.126067",
     "exception": false,
     "start_time": "2022-07-11T13:45:51.114057",
     "status": "completed"
    },
    "tags": []
   },
   "source": [
    "## Step 5: Chocolate!\n",
    "\n",
    "In the code cell below, create a scatter plot to show the relationship between `'pricepercent'` (on the horizontal x-axis) and `'winpercent'` (on the vertical y-axis). Use the `'chocolate'` column to color-code the points.  _Don't add any regression lines just yet -- you'll do that in the next step!_"
   ]
  },
  {
   "cell_type": "code",
   "execution_count": 16,
   "id": "7fb2d9cb",
   "metadata": {
    "execution": {
     "iopub.execute_input": "2022-07-11T13:45:51.153347Z",
     "iopub.status.busy": "2022-07-11T13:45:51.152983Z",
     "iopub.status.idle": "2022-07-11T13:45:51.417225Z",
     "shell.execute_reply": "2022-07-11T13:45:51.415909Z"
    },
    "papermill": {
     "duration": 0.280997,
     "end_time": "2022-07-11T13:45:51.419780",
     "exception": false,
     "start_time": "2022-07-11T13:45:51.138783",
     "status": "completed"
    },
    "tags": []
   },
   "outputs": [
    {
     "data": {
      "application/javascript": [
       "parent.postMessage({\"jupyterEvent\": \"custom.exercise_interaction\", \"data\": {\"outcomeType\": 1, \"valueTowardsCompletion\": 0.3333333333333333, \"interactionType\": 1, \"questionType\": 2, \"questionId\": \"5_ColorScatter\", \"learnToolsVersion\": \"0.3.4\", \"failureMessage\": \"\", \"exceptionClass\": \"\", \"trace\": \"\"}}, \"*\")"
      ],
      "text/plain": [
       "<IPython.core.display.Javascript object>"
      ]
     },
     "metadata": {},
     "output_type": "display_data"
    },
    {
     "data": {
      "text/markdown": [
       "<span style=\"color:#33cc33\">Correct</span>"
      ],
      "text/plain": [
       "Correct"
      ]
     },
     "metadata": {},
     "output_type": "display_data"
    },
    {
     "data": {
      "image/png": "[encoded data removed]",
      "text/plain": [
       "<Figure size 432x288 with 1 Axes>"
      ]
     },
     "metadata": {
      "needs_background": "light"
     },
     "output_type": "display_data"
    }
   ],
   "source": [
    "# Scatter plot showing the relationship between 'pricepercent', 'winpercent', and 'chocolate'\n",
    "sns.scatterplot(x = candy_data[\"pricepercent\"], y = candy_data[\"winpercent\"], hue = candy_data[\"chocolate\"])\n",
    "# Your code here\n",
    "\n",
    "# Check your answer\n",
    "step_5.check()"
   ]
  },
  {
   "cell_type": "code",
   "execution_count": 17,
   "id": "9d7370eb",
   "metadata": {
    "execution": {
     "iopub.execute_input": "2022-07-11T13:45:51.448153Z",
     "iopub.status.busy": "2022-07-11T13:45:51.447737Z",
     "iopub.status.idle": "2022-07-11T13:45:51.452827Z",
     "shell.execute_reply": "2022-07-11T13:45:51.451714Z"
    },
    "papermill": {
     "duration": 0.022232,
     "end_time": "2022-07-11T13:45:51.455309",
     "exception": false,
     "start_time": "2022-07-11T13:45:51.433077",
     "status": "completed"
    },
    "tags": []
   },
   "outputs": [],
   "source": [
    "# Lines below will give you a hint or solution code\n",
    "#step_5.hint()\n",
    "#step_5.solution_plot()"
   ]
  },
  {
   "cell_type": "markdown",
   "id": "b6ebedd3",
   "metadata": {
    "papermill": {
     "duration": 0.012861,
     "end_time": "2022-07-11T13:45:51.481875",
     "exception": false,
     "start_time": "2022-07-11T13:45:51.469014",
     "status": "completed"
    },
    "tags": []
   },
   "source": [
    "Can you see any interesting patterns in the scatter plot?  We'll investigate this plot further  by adding regression lines in the next step!\n",
    "\n",
    "## Step 6: Investigate chocolate\n",
    "\n",
    "#### Part A\n",
    "\n",
    "Create the same scatter plot you created in **Step 5**, but now with two regression lines, corresponding to (1) chocolate candies and (2) candies without chocolate."
   ]
  },
  {
   "cell_type": "code",
   "execution_count": 18,
   "id": "a92cb50e",
   "metadata": {
    "execution": {
     "iopub.execute_input": "2022-07-11T13:45:51.510410Z",
     "iopub.status.busy": "2022-07-11T13:45:51.510022Z",
     "iopub.status.idle": "2022-07-11T13:45:52.140470Z",
     "shell.execute_reply": "2022-07-11T13:45:52.139178Z"
    },
    "papermill": {
     "duration": 0.647986,
     "end_time": "2022-07-11T13:45:52.143161",
     "exception": false,
     "start_time": "2022-07-11T13:45:51.495175",
     "status": "completed"
    },
    "tags": []
   },
   "outputs": [
    {
     "data": {
      "application/javascript": [
       "parent.postMessage({\"jupyterEvent\": \"custom.exercise_interaction\", \"data\": {\"outcomeType\": 1, \"valueTowardsCompletion\": 0.3333333333333333, \"interactionType\": 1, \"questionType\": 2, \"questionId\": \"6.1_PlotColorReg\", \"learnToolsVersion\": \"0.3.4\", \"failureMessage\": \"\", \"exceptionClass\": \"\", \"trace\": \"\"}}, \"*\")"
      ],
      "text/plain": [
       "<IPython.core.display.Javascript object>"
      ]
     },
     "metadata": {},
     "output_type": "display_data"
    },
    {
     "data": {
      "text/markdown": [
       "<span style=\"color:#33cc33\">Correct</span>"
      ],
      "text/plain": [
       "Correct"
      ]
     },
     "metadata": {},
     "output_type": "display_data"
    },
    {
     "data": {
      "image/png": "[encoded data removed]",
      "text/plain": [
       "<Figure size 416.375x360 with 1 Axes>"
      ]
     },
     "metadata": {
      "needs_background": "light"
     },
     "output_type": "display_data"
    }
   ],
   "source": [
    "# Color-coded scatter plot w/ regression lines\n",
    "sns.lmplot(x = \"pricepercent\", y = \"winpercent\", hue = \"chocolate\", data = candy_data)\n",
    "# Your code here\n",
    "\n",
    "# Check your answer\n",
    "step_6.a.check()"
   ]
  },
  {
   "cell_type": "code",
   "execution_count": 19,
   "id": "57f7f151",
   "metadata": {
    "execution": {
     "iopub.execute_input": "2022-07-11T13:45:52.174012Z",
     "iopub.status.busy": "2022-07-11T13:45:52.173252Z",
     "iopub.status.idle": "2022-07-11T13:45:52.177893Z",
     "shell.execute_reply": "2022-07-11T13:45:52.177097Z"
    },
    "papermill": {
     "duration": 0.022511,
     "end_time": "2022-07-11T13:45:52.180106",
     "exception": false,
     "start_time": "2022-07-11T13:45:52.157595",
     "status": "completed"
    },
    "tags": []
   },
   "outputs": [],
   "source": [
    "# Lines below will give you a hint or solution code\n",
    "#step_6.a.hint()\n",
    "#step_6.a.solution_plot()"
   ]
  },
  {
   "cell_type": "markdown",
   "id": "f914259b",
   "metadata": {
    "papermill": {
     "duration": 0.013738,
     "end_time": "2022-07-11T13:45:52.208250",
     "exception": false,
     "start_time": "2022-07-11T13:45:52.194512",
     "status": "completed"
    },
    "tags": []
   },
   "source": [
    "#### Part B\n",
    "\n",
    "Using the regression lines, what conclusions can you draw about the effects of chocolate and price on candy popularity?"
   ]
  },
  {
   "cell_type": "code",
   "execution_count": 20,
   "id": "c6d1e1d9",
   "metadata": {
    "execution": {
     "iopub.execute_input": "2022-07-11T13:45:52.238610Z",
     "iopub.status.busy": "2022-07-11T13:45:52.237947Z",
     "iopub.status.idle": "2022-07-11T13:45:52.242409Z",
     "shell.execute_reply": "2022-07-11T13:45:52.241630Z"
    },
    "papermill": {
     "duration": 0.02225,
     "end_time": "2022-07-11T13:45:52.244609",
     "exception": false,
     "start_time": "2022-07-11T13:45:52.222359",
     "status": "completed"
    },
    "tags": []
   },
   "outputs": [],
   "source": [
    "#step_6.b.hint()"
   ]
  },
  {
   "cell_type": "code",
   "execution_count": 21,
   "id": "90210f2c",
   "metadata": {
    "execution": {
     "iopub.execute_input": "2022-07-11T13:45:52.275015Z",
     "iopub.status.busy": "2022-07-11T13:45:52.274237Z",
     "iopub.status.idle": "2022-07-11T13:45:52.283969Z",
     "shell.execute_reply": "2022-07-11T13:45:52.282773Z"
    },
    "papermill": {
     "duration": 0.027736,
     "end_time": "2022-07-11T13:45:52.286322",
     "exception": false,
     "start_time": "2022-07-11T13:45:52.258586",
     "status": "completed"
    },
    "tags": []
   },
   "outputs": [
    {
     "data": {
      "application/javascript": [
       "parent.postMessage({\"jupyterEvent\": \"custom.exercise_interaction\", \"data\": {\"interactionType\": 3, \"questionType\": 4, \"questionId\": \"6.2_ThinkColorReg\", \"learnToolsVersion\": \"0.3.4\", \"valueTowardsCompletion\": 0.0, \"failureMessage\": \"\", \"exceptionClass\": \"\", \"trace\": \"\", \"outcomeType\": 4}}, \"*\")"
      ],
      "text/plain": [
       "<IPython.core.display.Javascript object>"
      ]
     },
     "metadata": {},
     "output_type": "display_data"
    },
    {
     "data": {
      "text/markdown": [
       "<span style=\"color:#33cc99\">Solution:</span> We'll begin with the regression line for chocolate candies. Since this line has a slightly positive slope, we can say that more expensive chocolate candies tend to be more popular (than relatively cheaper chocolate candies).  Likewise, since the regression line for candies without chocolate has a negative slope, we can say that if candies don't contain chocolate, they tend to be more popular when they are cheaper.  One important note, however, is that the dataset is quite small -- so we shouldn't invest too much trust in these patterns!  To inspire more confidence in the results, we should add more candies to the dataset."
      ],
      "text/plain": [
       "Solution: We'll begin with the regression line for chocolate candies. Since this line has a slightly positive slope, we can say that more expensive chocolate candies tend to be more popular (than relatively cheaper chocolate candies).  Likewise, since the regression line for candies without chocolate has a negative slope, we can say that if candies don't contain chocolate, they tend to be more popular when they are cheaper.  One important note, however, is that the dataset is quite small -- so we shouldn't invest too much trust in these patterns!  To inspire more confidence in the results, we should add more candies to the dataset."
      ]
     },
     "metadata": {},
     "output_type": "display_data"
    }
   ],
   "source": [
    "# Check your answer (Run this code cell to receive credit!)\n",
    "step_6.b.solution()"
   ]
  },
  {
   "cell_type": "markdown",
   "id": "46615720",
   "metadata": {
    "papermill": {
     "duration": 0.014022,
     "end_time": "2022-07-11T13:45:52.314615",
     "exception": false,
     "start_time": "2022-07-11T13:45:52.300593",
     "status": "completed"
    },
    "tags": []
   },
   "source": [
    "## Step 7: Everybody loves chocolate.\n",
    "\n",
    "#### Part A\n",
    "\n",
    "Create a categorical scatter plot to highlight the relationship between `'chocolate'` and `'winpercent'`.  Put `'chocolate'` on the (horizontal) x-axis, and `'winpercent'` on the (vertical) y-axis."
   ]
  },
  {
   "cell_type": "code",
   "execution_count": 22,
   "id": "632af8ff",
   "metadata": {
    "execution": {
     "iopub.execute_input": "2022-07-11T13:45:52.345053Z",
     "iopub.status.busy": "2022-07-11T13:45:52.344648Z",
     "iopub.status.idle": "2022-07-11T13:45:52.487783Z",
     "shell.execute_reply": "2022-07-11T13:45:52.486872Z"
    },
    "papermill": {
     "duration": 0.161152,
     "end_time": "2022-07-11T13:45:52.490079",
     "exception": false,
     "start_time": "2022-07-11T13:45:52.328927",
     "status": "completed"
    },
    "tags": []
   },
   "outputs": [
    {
     "data": {
      "application/javascript": [
       "parent.postMessage({\"jupyterEvent\": \"custom.exercise_interaction\", \"data\": {\"outcomeType\": 1, \"valueTowardsCompletion\": 0.3333333333333333, \"interactionType\": 1, \"questionType\": 2, \"questionId\": \"7.1_PlotSwarm\", \"learnToolsVersion\": \"0.3.4\", \"failureMessage\": \"\", \"exceptionClass\": \"\", \"trace\": \"\"}}, \"*\")"
      ],
      "text/plain": [
       "<IPython.core.display.Javascript object>"
      ]
     },
     "metadata": {},
     "output_type": "display_data"
    },
    {
     "data": {
      "text/markdown": [
       "<span style=\"color:#33cc33\">Correct</span>"
      ],
      "text/plain": [
       "Correct"
      ]
     },
     "metadata": {},
     "output_type": "display_data"
    },
    {
     "data": {
      "image/png": "[encoded data removed]",
      "text/plain": [
       "<Figure size 432x288 with 1 Axes>"
      ]
     },
     "metadata": {
      "needs_background": "light"
     },
     "output_type": "display_data"
    }
   ],
   "source": [
    "# Scatter plot showing the relationship between 'chocolate' and 'winpercent'\n",
    "sns.swarmplot(x=candy_data['chocolate'],\n",
    "              y=candy_data['winpercent'])\n",
    "____ # Your code here\n",
    "\n",
    "# Check your answer\n",
    "step_7.a.check()"
   ]
  },
  {
   "cell_type": "code",
   "execution_count": 23,
   "id": "64cbb516",
   "metadata": {
    "execution": {
     "iopub.execute_input": "2022-07-11T13:45:52.521584Z",
     "iopub.status.busy": "2022-07-11T13:45:52.521220Z",
     "iopub.status.idle": "2022-07-11T13:45:52.525732Z",
     "shell.execute_reply": "2022-07-11T13:45:52.524547Z"
    },
    "papermill": {
     "duration": 0.023037,
     "end_time": "2022-07-11T13:45:52.528160",
     "exception": false,
     "start_time": "2022-07-11T13:45:52.505123",
     "status": "completed"
    },
    "tags": []
   },
   "outputs": [],
   "source": [
    "# Lines below will give you a hint or solution code\n",
    "#step_7.a.hint()\n",
    "#step_7.a.solution_plot()"
   ]
  },
  {
   "cell_type": "markdown",
   "id": "93554418",
   "metadata": {
    "papermill": {
     "duration": 0.014519,
     "end_time": "2022-07-11T13:45:52.557570",
     "exception": false,
     "start_time": "2022-07-11T13:45:52.543051",
     "status": "completed"
    },
    "tags": []
   },
   "source": [
    "#### Part B\n",
    "\n",
    "You decide to dedicate a section of your report to the fact that chocolate candies tend to be more popular than candies without chocolate.  Which plot is more appropriate to tell this story: the plot from **Step 6**, or the plot from **Step 7**?"
   ]
  },
  {
   "cell_type": "code",
   "execution_count": 24,
   "id": "24d35d89",
   "metadata": {
    "execution": {
     "iopub.execute_input": "2022-07-11T13:45:52.589382Z",
     "iopub.status.busy": "2022-07-11T13:45:52.588981Z",
     "iopub.status.idle": "2022-07-11T13:45:52.593227Z",
     "shell.execute_reply": "2022-07-11T13:45:52.592292Z"
    },
    "papermill": {
     "duration": 0.02273,
     "end_time": "2022-07-11T13:45:52.595284",
     "exception": false,
     "start_time": "2022-07-11T13:45:52.572554",
     "status": "completed"
    },
    "tags": []
   },
   "outputs": [],
   "source": [
    "#step_7.b.hint()"
   ]
  },
  {
   "cell_type": "code",
   "execution_count": 25,
   "id": "9dd9a8e8",
   "metadata": {
    "execution": {
     "iopub.execute_input": "2022-07-11T13:45:52.627935Z",
     "iopub.status.busy": "2022-07-11T13:45:52.627207Z",
     "iopub.status.idle": "2022-07-11T13:45:52.634603Z",
     "shell.execute_reply": "2022-07-11T13:45:52.633783Z"
    },
    "papermill": {
     "duration": 0.026182,
     "end_time": "2022-07-11T13:45:52.636897",
     "exception": false,
     "start_time": "2022-07-11T13:45:52.610715",
     "status": "completed"
    },
    "tags": []
   },
   "outputs": [
    {
     "data": {
      "application/javascript": [
       "parent.postMessage({\"jupyterEvent\": \"custom.exercise_interaction\", \"data\": {\"interactionType\": 3, \"questionType\": 4, \"questionId\": \"7.2_ThinkSwarm\", \"learnToolsVersion\": \"0.3.4\", \"valueTowardsCompletion\": 0.0, \"failureMessage\": \"\", \"exceptionClass\": \"\", \"trace\": \"\", \"outcomeType\": 4}}, \"*\")"
      ],
      "text/plain": [
       "<IPython.core.display.Javascript object>"
      ]
     },
     "metadata": {},
     "output_type": "display_data"
    },
    {
     "data": {
      "text/markdown": [
       "<span style=\"color:#33cc99\">Solution:</span> In this case, the categorical scatter plot from **Step 7** is the more appropriate plot. While both plots tell the desired story, the plot from **Step 6** conveys far more information that could distract from the main point."
      ],
      "text/plain": [
       "Solution: In this case, the categorical scatter plot from **Step 7** is the more appropriate plot. While both plots tell the desired story, the plot from **Step 6** conveys far more information that could distract from the main point."
      ]
     },
     "metadata": {},
     "output_type": "display_data"
    }
   ],
   "source": [
    "# Check your answer (Run this code cell to receive credit!)\n",
    "step_7.b.solution()"
   ]
  },
  {
   "cell_type": "markdown",
   "id": "7a91212b",
   "metadata": {
    "papermill": {
     "duration": 0.01497,
     "end_time": "2022-07-11T13:45:52.668014",
     "exception": false,
     "start_time": "2022-07-11T13:45:52.653044",
     "status": "completed"
    },
    "tags": []
   },
   "source": [
    "## Keep going\n",
    "\n",
    "Explore **[histograms and density plots](https://www.kaggle.com/alexisbcook/distributions)**."
   ]
  },
  {
   "cell_type": "markdown",
   "id": "a86160eb",
   "metadata": {
    "papermill": {
     "duration": 0.015408,
     "end_time": "2022-07-11T13:45:52.698552",
     "exception": false,
     "start_time": "2022-07-11T13:45:52.683144",
     "status": "completed"
    },
    "tags": []
   },
   "source": [
    "---\n",
    "\n",
    "\n",
    "\n",
    "\n",
    "*Have questions or comments? Visit the [course discussion forum](https://www.kaggle.com/learn/data-visualization/discussion) to chat with other learners.*"
   ]
  }
 ],
 "metadata": {
  "kernelspec": {
   "display_name": "Python 3",
   "language": "python",
   "name": "python3"
  },
  "language_info": {
   "codemirror_mode": {
    "name": "ipython",
    "version": 3
   },
   "file_extension": ".py",
   "mimetype": "text/x-python",
   "name": "python",
   "nbconvert_exporter": "python",
   "pygments_lexer": "ipython3",
   "version": "3.7.12"
  },
  "papermill": {
   "default_parameters": {},
   "duration": 15.254709,
   "end_time": "2022-07-11T13:45:53.535896",
   "environment_variables": {},
   "exception": null,
   "input_path": "__notebook__.ipynb",
   "output_path": "__notebook__.ipynb",
   "parameters": {},
   "start_time": "2022-07-11T13:45:38.281187",
   "version": "2.3.4"
  }
 },
 "nbformat": 4,
 "nbformat_minor": 5
}
